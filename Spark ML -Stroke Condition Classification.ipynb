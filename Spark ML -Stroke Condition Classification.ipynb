{
  "nbformat": 4,
  "nbformat_minor": 5,
  "metadata": {
    "kernelspec": {
      "display_name": "Python 3",
      "language": "python",
      "name": "python3"
    },
    "language_info": {
      "codemirror_mode": {
        "name": "ipython",
        "version": 3
      },
      "file_extension": ".py",
      "mimetype": "text/x-python",
      "name": "python",
      "nbconvert_exporter": "python",
      "pygments_lexer": "ipython3",
      "version": "3.8.8"
    },
    "colab": {
      "name": "Spark Final Exam Fakhry Mohamed G10.ipynb",
      "provenance": [],
      "collapsed_sections": []
    }
  },
  "cells": [
    {
      "cell_type": "markdown",
      "metadata": {
        "id": "fa486f23"
      },
      "source": [
        "![image.png](attachment:image.png)"
      ],
      "id": "fa486f23"
    },
    {
      "cell_type": "markdown",
      "metadata": {
        "id": "abbf1e33"
      },
      "source": [
        "##### **Good luck with taking your exam. Keep working and make your dreams all come true. Seeing the results of all of your hard work will make this struggle worth it. We’re all thinking of you.** \n",
        "<b><font color='blue'>AI-PRO Spark Team ITI</font></b>"
      ],
      "id": "abbf1e33"
    },
    {
      "cell_type": "markdown",
      "metadata": {
        "id": "8326ba88"
      },
      "source": [
        "## Objective:\n",
        "- The objective from this project is to create a <b>Logistic Regression Classifier</b> to predict the <b>Stroke Condition</b>.\n",
        "- <b>Stoke</b> is a condition in which either the blood flow to the brain stops or blood flow is excessive.\n",
        "- It is required to obtain <b>ROC > 0.65</b>."
      ],
      "id": "8326ba88"
    },
    {
      "cell_type": "markdown",
      "metadata": {
        "id": "0eb78c16"
      },
      "source": [
        "### Data:\n",
        "- Data is provided in csv format in a file named <b>healthcare-dataset-stroke-data.csv</b>"
      ],
      "id": "0eb78c16"
    },
    {
      "cell_type": "markdown",
      "metadata": {
        "id": "7c842b79"
      },
      "source": [
        "### Column names and data types are as follow:\n",
        "- id, integer.\n",
        "- gender, string.\n",
        "- age, double.\n",
        "- hypertension, integer.\n",
        "- heart_disease, integer.\n",
        "- ever_married, string.\n",
        "- work_type, string.\n",
        "- Residence_type, string.\n",
        "- avg_glucose_level, double.\n",
        "- bmi, double.\n",
        "- smoking_status, string.\n",
        "- stroke, integer <b>(Target Label)</b>.\n",
        "If the person has stroke the stroke label value is <b>\"1\"</b> otherwise <b>\"0\"</b>."
      ],
      "id": "7c842b79"
    },
    {
      "cell_type": "markdown",
      "metadata": {
        "id": "6971f788"
      },
      "source": [
        "## To perform this task follow the following guiding steps:"
      ],
      "id": "6971f788"
    },
    {
      "cell_type": "markdown",
      "metadata": {
        "id": "e31bc851"
      },
      "source": [
        "### Create a spark session and import the required libraries"
      ],
      "id": "e31bc851"
    },
    {
      "cell_type": "code",
      "metadata": {
        "colab": {
          "base_uri": "https://localhost:8080/"
        },
        "id": "ab3ba311",
        "outputId": "1fcfcc9c-99a5-4324-e096-6200ed8f2519"
      },
      "source": [
        "!pip install pyspark \n",
        "from pyspark.sql import SparkSession\n",
        "import pyspark.sql.functions as F\n",
        "from pyspark.sql.types import DoubleType, StringType, StructType, StructField, IntegerType, TimestampType\n",
        "spark = SparkSession.builder.appName(\"First Project\").getOrCreate()"
      ],
      "id": "ab3ba311",
      "execution_count": null,
      "outputs": [
        {
          "output_type": "stream",
          "name": "stdout",
          "text": [
            "Requirement already satisfied: pyspark in /usr/local/lib/python3.7/dist-packages (3.2.0)\n",
            "Requirement already satisfied: py4j==0.10.9.2 in /usr/local/lib/python3.7/dist-packages (from pyspark) (0.10.9.2)\n"
          ]
        }
      ]
    },
    {
      "cell_type": "markdown",
      "metadata": {
        "id": "843b8468"
      },
      "source": [
        "### Create a data schema programatically"
      ],
      "id": "843b8468"
    },
    {
      "cell_type": "code",
      "metadata": {
        "id": "8616fe16"
      },
      "source": [
        "#sampleDF = spark.read.option(\"samplingRatio\", 0.01).option(\"header\", True).csv(\"/content/healthcare-dataset-stroke-data.csv\")\n",
        "schema = StructType([StructField(\"id\", IntegerType(), False),\n",
        "                     StructField(\"gender\", StringType(), False),\n",
        "                     StructField(\"age\", DoubleType(), False),\n",
        "                     StructField(\"hypertension\", IntegerType(), False),\n",
        "                     StructField(\"heart_disease\", IntegerType(), False),\n",
        "                     StructField(\"ever_married\", StringType(), False),\n",
        "                     StructField(\"work_type\", StringType(), False),\n",
        "                     StructField(\"Residence_type\", StringType(), False),\n",
        "                     StructField(\"avg_glucose_level\", DoubleType(), False),\n",
        "                     StructField(\"bmi\", DoubleType(), False),\n",
        "                     StructField(\"smoking_status\", StringType(), False),\n",
        "                    StructField(\"stroke\", IntegerType(), False)])"
      ],
      "id": "8616fe16",
      "execution_count": null,
      "outputs": []
    },
    {
      "cell_type": "markdown",
      "metadata": {
        "id": "2d00718f"
      },
      "source": [
        "### Read the data using the standard DataReader (Key,Value) pairs format\n",
        "- Provide the schema and any other required options."
      ],
      "id": "2d00718f"
    },
    {
      "cell_type": "code",
      "metadata": {
        "id": "61fcc4cd"
      },
      "source": [
        "data = spark.read.csv(\"/content/healthcare-dataset-stroke-data.csv\", header=\"true\", schema=schema)"
      ],
      "id": "61fcc4cd",
      "execution_count": null,
      "outputs": []
    },
    {
      "cell_type": "markdown",
      "metadata": {
        "id": "974bc193"
      },
      "source": [
        "### Explore the data \n",
        "#### You have to do the following:\n",
        "- Print the Schema.\n",
        "- Show the first 10 rows from the data.\n",
        "- Explore null values and show how many null values in each column.\n",
        "- Plot a count plot for the target label and <b>notice the graph</b>.\n",
        "- Perform any additional EDA you find useful."
      ],
      "id": "974bc193"
    },
    {
      "cell_type": "code",
      "metadata": {
        "colab": {
          "base_uri": "https://localhost:8080/"
        },
        "id": "353b6f34",
        "outputId": "3573c5ec-e825-4a94-9017-3a2acafe9f95"
      },
      "source": [
        "data.printSchema()"
      ],
      "id": "353b6f34",
      "execution_count": null,
      "outputs": [
        {
          "output_type": "stream",
          "name": "stdout",
          "text": [
            "root\n",
            " |-- id: integer (nullable = true)\n",
            " |-- gender: string (nullable = true)\n",
            " |-- age: double (nullable = true)\n",
            " |-- hypertension: integer (nullable = true)\n",
            " |-- heart_disease: integer (nullable = true)\n",
            " |-- ever_married: string (nullable = true)\n",
            " |-- work_type: string (nullable = true)\n",
            " |-- Residence_type: string (nullable = true)\n",
            " |-- avg_glucose_level: double (nullable = true)\n",
            " |-- bmi: double (nullable = true)\n",
            " |-- smoking_status: string (nullable = true)\n",
            " |-- stroke: integer (nullable = true)\n",
            "\n"
          ]
        }
      ]
    },
    {
      "cell_type": "code",
      "metadata": {
        "colab": {
          "base_uri": "https://localhost:8080/"
        },
        "id": "6fb198f0",
        "outputId": "169727f3-9aad-4003-d0a7-619f4c27ab8f"
      },
      "source": [
        "data.show(10,truncate=False)"
      ],
      "id": "6fb198f0",
      "execution_count": null,
      "outputs": [
        {
          "output_type": "stream",
          "name": "stdout",
          "text": [
            "+-----+------+----+------------+-------------+------------+-------------+--------------+-----------------+----+---------------+------+\n",
            "|id   |gender|age |hypertension|heart_disease|ever_married|work_type    |Residence_type|avg_glucose_level|bmi |smoking_status |stroke|\n",
            "+-----+------+----+------------+-------------+------------+-------------+--------------+-----------------+----+---------------+------+\n",
            "|9046 |Male  |67.0|0           |1            |Yes         |Private      |Urban         |228.69           |36.6|formerly smoked|1     |\n",
            "|51676|Female|61.0|0           |0            |Yes         |Self-employed|Rural         |202.21           |null|never smoked   |1     |\n",
            "|31112|Male  |80.0|0           |1            |Yes         |Private      |Rural         |105.92           |32.5|never smoked   |1     |\n",
            "|60182|Female|49.0|0           |0            |Yes         |Private      |Urban         |171.23           |34.4|smokes         |1     |\n",
            "|1665 |Female|79.0|1           |0            |Yes         |Self-employed|Rural         |174.12           |24.0|never smoked   |1     |\n",
            "|56669|Male  |81.0|0           |0            |Yes         |Private      |Urban         |186.21           |29.0|formerly smoked|1     |\n",
            "|53882|Male  |74.0|1           |1            |Yes         |Private      |Rural         |70.09            |27.4|never smoked   |1     |\n",
            "|10434|Female|69.0|0           |0            |No          |Private      |Urban         |94.39            |22.8|never smoked   |1     |\n",
            "|27419|Female|59.0|0           |0            |Yes         |Private      |Rural         |76.15            |null|Unknown        |1     |\n",
            "|60491|Female|78.0|0           |0            |Yes         |Private      |Urban         |58.57            |24.2|Unknown        |1     |\n",
            "+-----+------+----+------------+-------------+------------+-------------+--------------+-----------------+----+---------------+------+\n",
            "only showing top 10 rows\n",
            "\n"
          ]
        }
      ]
    },
    {
      "cell_type": "code",
      "metadata": {
        "colab": {
          "base_uri": "https://localhost:8080/"
        },
        "id": "wOI_qFXewqIF",
        "outputId": "e676681b-016c-4189-cd0e-2d5253e64bf3"
      },
      "source": [
        "for coulmnName in data.columns:\n",
        "  numOfNulls=data.where(F.col(coulmnName).isNull()).count()\n",
        "  if (numOfNulls > 0):\n",
        "    print(coulmnName , 'Has' ,numOfNulls)\n"
      ],
      "id": "wOI_qFXewqIF",
      "execution_count": null,
      "outputs": [
        {
          "output_type": "stream",
          "name": "stdout",
          "text": [
            "bmi Has 201\n"
          ]
        }
      ]
    },
    {
      "cell_type": "markdown",
      "metadata": {
        "id": "59b770cb"
      },
      "source": [
        "### Get the summary statistics of the age column\n",
        "- You will find the minimum age is about <b>0.08</b>.\n",
        "- Remove rows for the age below <b>2 years old</b>."
      ],
      "id": "59b770cb"
    },
    {
      "cell_type": "code",
      "metadata": {
        "scrolled": false,
        "colab": {
          "base_uri": "https://localhost:8080/"
        },
        "id": "ed40fb11",
        "outputId": "34d81dc0-dd3e-47ba-9db4-f3bd02e91419"
      },
      "source": [
        "data.select(F.min(F.col('age'))).show()"
      ],
      "id": "ed40fb11",
      "execution_count": null,
      "outputs": [
        {
          "output_type": "stream",
          "name": "stdout",
          "text": [
            "+--------+\n",
            "|min(age)|\n",
            "+--------+\n",
            "|    0.08|\n",
            "+--------+\n",
            "\n"
          ]
        }
      ]
    },
    {
      "cell_type": "code",
      "metadata": {
        "colab": {
          "base_uri": "https://localhost:8080/"
        },
        "id": "cc99c0be",
        "outputId": "28f84d46-b49a-4401-a164-667a4983e974"
      },
      "source": [
        "data=data.where(F.col('age')>2)\n",
        "data.select(F.min(F.col('age'))).show()"
      ],
      "id": "cc99c0be",
      "execution_count": null,
      "outputs": [
        {
          "output_type": "stream",
          "name": "stdout",
          "text": [
            "+--------+\n",
            "|min(age)|\n",
            "+--------+\n",
            "|     3.0|\n",
            "+--------+\n",
            "\n"
          ]
        }
      ]
    },
    {
      "cell_type": "markdown",
      "metadata": {
        "id": "bf8c9498"
      },
      "source": [
        "### Working with gender & smoking_status columns:\n",
        "- Select and show the gender & smoking_status columns\n",
        "- Get the distinct values for each column."
      ],
      "id": "bf8c9498"
    },
    {
      "cell_type": "code",
      "metadata": {
        "colab": {
          "base_uri": "https://localhost:8080/"
        },
        "id": "925a5ecd",
        "outputId": "364c9016-7fdc-4674-8756-5e0a818e55b6"
      },
      "source": [
        "data.select('gender','smoking_status').show()"
      ],
      "id": "925a5ecd",
      "execution_count": null,
      "outputs": [
        {
          "output_type": "stream",
          "name": "stdout",
          "text": [
            "+------+---------------+\n",
            "|gender| smoking_status|\n",
            "+------+---------------+\n",
            "|  Male|formerly smoked|\n",
            "|Female|   never smoked|\n",
            "|  Male|   never smoked|\n",
            "|Female|         smokes|\n",
            "|Female|   never smoked|\n",
            "|  Male|formerly smoked|\n",
            "|  Male|   never smoked|\n",
            "|Female|   never smoked|\n",
            "|Female|        Unknown|\n",
            "|Female|        Unknown|\n",
            "|Female|   never smoked|\n",
            "|Female|         smokes|\n",
            "|Female|         smokes|\n",
            "|  Male|        Unknown|\n",
            "|Female|   never smoked|\n",
            "|Female|   never smoked|\n",
            "|  Male|         smokes|\n",
            "|  Male|         smokes|\n",
            "|Female|   never smoked|\n",
            "|  Male|        Unknown|\n",
            "+------+---------------+\n",
            "only showing top 20 rows\n",
            "\n"
          ]
        }
      ]
    },
    {
      "cell_type": "code",
      "metadata": {
        "colab": {
          "base_uri": "https://localhost:8080/"
        },
        "id": "9dfe35a4",
        "outputId": "e782d831-7bba-486b-d4ce-75c99fa3d7fd"
      },
      "source": [
        "data.select('smoking_status').agg(F.countDistinct('smoking_status').alias('DistinctSmoking')).show()"
      ],
      "id": "9dfe35a4",
      "execution_count": null,
      "outputs": [
        {
          "output_type": "stream",
          "name": "stdout",
          "text": [
            "+---------------+\n",
            "|DistinctSmoking|\n",
            "+---------------+\n",
            "|              4|\n",
            "+---------------+\n",
            "\n"
          ]
        }
      ]
    },
    {
      "cell_type": "code",
      "metadata": {
        "colab": {
          "base_uri": "https://localhost:8080/"
        },
        "id": "b7bf6c7e",
        "outputId": "f336d2d7-f504-4bc7-fa00-2d94afad5459"
      },
      "source": [
        "data.select('gender').agg(F.countDistinct('gender').alias('DistinctGender')).show()"
      ],
      "id": "b7bf6c7e",
      "execution_count": null,
      "outputs": [
        {
          "output_type": "stream",
          "name": "stdout",
          "text": [
            "+--------------+\n",
            "|DistinctGender|\n",
            "+--------------+\n",
            "|             3|\n",
            "+--------------+\n",
            "\n"
          ]
        }
      ]
    },
    {
      "cell_type": "markdown",
      "metadata": {
        "id": "850bdfe1"
      },
      "source": [
        "#### Change the string values of the columns into numerical values as follow:\n",
        "1. Gender column:\n",
        "    * Male = 1 \n",
        "    * Female = 0 \n",
        "    * Other = 0 \n",
        "2. Smoking Status column:\n",
        "  * never smoked = 0\n",
        "  * Unknown = 0.5\n",
        "  * formerly smoked = 0.75\n",
        "  * smokes = 1.0\n"
      ],
      "id": "850bdfe1"
    },
    {
      "cell_type": "code",
      "metadata": {
        "id": "355f2ef0"
      },
      "source": [
        "from pyspark.ml.feature import StringIndexer, VectorAssembler,OneHotEncoder\n",
        "from pyspark.ml import Pipeline\n"
      ],
      "id": "355f2ef0",
      "execution_count": null,
      "outputs": []
    },
    {
      "cell_type": "code",
      "metadata": {
        "id": "m_1hGKxn7oVQ"
      },
      "source": [
        "def Gender_column_Fun(col):\n",
        "  if col == 'Male':\n",
        "    return 1\n",
        "  else:\n",
        "    return 0\n",
        "\n",
        "def Smoking_Status_column(col):\n",
        "  if col == 'never smoked':\n",
        "    return 0.0\n",
        "  elif col == 'Unknown':\n",
        "    return 0.5\n",
        "  elif col== 'formerly smoked':\n",
        "    return 0.75\n",
        "  else:\n",
        "    return 1.0"
      ],
      "id": "m_1hGKxn7oVQ",
      "execution_count": null,
      "outputs": []
    },
    {
      "cell_type": "code",
      "metadata": {
        "id": "D6IueadE-dnI"
      },
      "source": [
        "gender_Indexed = F.udf(Gender_column_Fun, IntegerType())\n",
        "dataInd = data.withColumn('gender', gender_Indexed('gender'))\n",
        "\n",
        "Smoking_Status_Indexed = F.udf(Smoking_Status_column, DoubleType())\n",
        "dataInd = dataInd.withColumn('smoking_status', Smoking_Status_Indexed('smoking_status'))"
      ],
      "id": "D6IueadE-dnI",
      "execution_count": null,
      "outputs": []
    },
    {
      "cell_type": "code",
      "metadata": {
        "id": "wzw_2niV_Qtl"
      },
      "source": [
        ""
      ],
      "id": "wzw_2niV_Qtl",
      "execution_count": null,
      "outputs": []
    },
    {
      "cell_type": "markdown",
      "metadata": {
        "id": "3da38a31"
      },
      "source": [
        "#### Show the output DataFrame\n",
        "- Select and show the gender & smoking_status columns after value changing.\n",
        "- Print schema for the new dataframe."
      ],
      "id": "3da38a31"
    },
    {
      "cell_type": "code",
      "metadata": {
        "colab": {
          "base_uri": "https://localhost:8080/"
        },
        "id": "7df0cf29",
        "outputId": "fde1a7e8-639f-4744-9861-4f06f210348a"
      },
      "source": [
        "dataInd.select('gender','smoking_status').show()"
      ],
      "id": "7df0cf29",
      "execution_count": null,
      "outputs": [
        {
          "output_type": "stream",
          "name": "stdout",
          "text": [
            "+------+--------------+\n",
            "|gender|smoking_status|\n",
            "+------+--------------+\n",
            "|     1|          0.75|\n",
            "|     0|           0.0|\n",
            "|     1|           0.0|\n",
            "|     0|           1.0|\n",
            "|     0|           0.0|\n",
            "|     1|          0.75|\n",
            "|     1|           0.0|\n",
            "|     0|           0.0|\n",
            "|     0|           0.5|\n",
            "|     0|           0.5|\n",
            "|     0|           0.0|\n",
            "|     0|           1.0|\n",
            "|     0|           1.0|\n",
            "|     1|           0.5|\n",
            "|     0|           0.0|\n",
            "|     0|           0.0|\n",
            "|     1|           1.0|\n",
            "|     1|           1.0|\n",
            "|     0|           0.0|\n",
            "|     1|           0.5|\n",
            "+------+--------------+\n",
            "only showing top 20 rows\n",
            "\n"
          ]
        }
      ]
    },
    {
      "cell_type": "markdown",
      "metadata": {
        "id": "89ce3b77"
      },
      "source": [
        "### Deal with null value according to your data analysis."
      ],
      "id": "89ce3b77"
    },
    {
      "cell_type": "code",
      "metadata": {
        "colab": {
          "base_uri": "https://localhost:8080/",
          "height": 279
        },
        "id": "4d78cb87",
        "outputId": "a828437c-f9f2-44ed-ad97-a3f1c74fe665"
      },
      "source": [
        "import seaborn as sns\n",
        "bmi = data.toPandas().bmi\n",
        "#sns.countplot(x=bmi);\n",
        "sns.histplot(x=bmi)\n",
        "mean=29.2574"
      ],
      "id": "4d78cb87",
      "execution_count": null,
      "outputs": [
        {
          "output_type": "display_data",
          "data": {
            "image/png": "[encoded data removed]",
            "text/plain": [
              "<Figure size 432x288 with 1 Axes>"
            ]
          },
          "metadata": {
            "needs_background": "light"
          }
        }
      ]
    },
    {
      "cell_type": "code",
      "metadata": {
        "colab": {
          "base_uri": "https://localhost:8080/"
        },
        "id": "AQ5VxOlWDvEY",
        "outputId": "725c75aa-7c18-4c67-d4e0-56bea063c638"
      },
      "source": [
        "data.select(F.mean(F.col('bmi'))).show()\n",
        "dataInd=dataInd.fillna(mean,subset=['bmi'])"
      ],
      "id": "AQ5VxOlWDvEY",
      "execution_count": null,
      "outputs": [
        {
          "output_type": "stream",
          "name": "stdout",
          "text": [
            "+------------------+\n",
            "|          avg(bmi)|\n",
            "+------------------+\n",
            "|29.257489451476793|\n",
            "+------------------+\n",
            "\n"
          ]
        }
      ]
    },
    {
      "cell_type": "code",
      "metadata": {
        "colab": {
          "base_uri": "https://localhost:8080/"
        },
        "id": "kaLJ37urFRBR",
        "outputId": "827f619b-a75b-41c8-e8e1-cc8c0c7977f3"
      },
      "source": [
        "dataInd.show()"
      ],
      "id": "kaLJ37urFRBR",
      "execution_count": null,
      "outputs": [
        {
          "output_type": "stream",
          "name": "stdout",
          "text": [
            "+-----+------+----+------------+-------------+------------+-------------+--------------+-----------------+-------+--------------+------+\n",
            "|   id|gender| age|hypertension|heart_disease|ever_married|    work_type|Residence_type|avg_glucose_level|    bmi|smoking_status|stroke|\n",
            "+-----+------+----+------------+-------------+------------+-------------+--------------+-----------------+-------+--------------+------+\n",
            "| 9046|     1|67.0|           0|            1|         Yes|      Private|         Urban|           228.69|   36.6|          0.75|     1|\n",
            "|51676|     0|61.0|           0|            0|         Yes|Self-employed|         Rural|           202.21|29.2574|           0.0|     1|\n",
            "|31112|     1|80.0|           0|            1|         Yes|      Private|         Rural|           105.92|   32.5|           0.0|     1|\n",
            "|60182|     0|49.0|           0|            0|         Yes|      Private|         Urban|           171.23|   34.4|           1.0|     1|\n",
            "| 1665|     0|79.0|           1|            0|         Yes|Self-employed|         Rural|           174.12|   24.0|           0.0|     1|\n",
            "|56669|     1|81.0|           0|            0|         Yes|      Private|         Urban|           186.21|   29.0|          0.75|     1|\n",
            "|53882|     1|74.0|           1|            1|         Yes|      Private|         Rural|            70.09|   27.4|           0.0|     1|\n",
            "|10434|     0|69.0|           0|            0|          No|      Private|         Urban|            94.39|   22.8|           0.0|     1|\n",
            "|27419|     0|59.0|           0|            0|         Yes|      Private|         Rural|            76.15|29.2574|           0.5|     1|\n",
            "|60491|     0|78.0|           0|            0|         Yes|      Private|         Urban|            58.57|   24.2|           0.5|     1|\n",
            "|12109|     0|81.0|           1|            0|         Yes|      Private|         Rural|            80.43|   29.7|           0.0|     1|\n",
            "|12095|     0|61.0|           0|            1|         Yes|     Govt_job|         Rural|           120.46|   36.8|           1.0|     1|\n",
            "|12175|     0|54.0|           0|            0|         Yes|      Private|         Urban|           104.51|   27.3|           1.0|     1|\n",
            "| 8213|     1|78.0|           0|            1|         Yes|      Private|         Urban|           219.84|29.2574|           0.5|     1|\n",
            "| 5317|     0|79.0|           0|            1|         Yes|      Private|         Urban|           214.09|   28.2|           0.0|     1|\n",
            "|58202|     0|50.0|           1|            0|         Yes|Self-employed|         Rural|           167.41|   30.9|           0.0|     1|\n",
            "|56112|     1|64.0|           0|            1|         Yes|      Private|         Urban|           191.61|   37.5|           1.0|     1|\n",
            "|34120|     1|75.0|           1|            0|         Yes|      Private|         Urban|           221.29|   25.8|           1.0|     1|\n",
            "|27458|     0|60.0|           0|            0|          No|      Private|         Urban|            89.22|   37.8|           0.0|     1|\n",
            "|25226|     1|57.0|           0|            1|          No|     Govt_job|         Urban|           217.08|29.2574|           0.5|     1|\n",
            "+-----+------+----+------------+-------------+------------+-------------+--------------+-----------------+-------+--------------+------+\n",
            "only showing top 20 rows\n",
            "\n"
          ]
        }
      ]
    },
    {
      "cell_type": "markdown",
      "metadata": {
        "id": "053c429a"
      },
      "source": [
        "### Split the data into training and test dataframes:\n",
        "- 80% training and 20% test.\n",
        "- seed = 42.\n",
        "- Save each dataframe as a parquet file"
      ],
      "id": "053c429a"
    },
    {
      "cell_type": "code",
      "metadata": {
        "id": "0236ea8b"
      },
      "source": [
        "X_train, X_test = dataInd.randomSplit([0.8, 0.2], seed = 42)"
      ],
      "id": "0236ea8b",
      "execution_count": null,
      "outputs": []
    },
    {
      "cell_type": "code",
      "metadata": {
        "id": "yyEeIHH6F3gi"
      },
      "source": [
        "X_train.write.parquet(\"/content/train1.parquet\")\n",
        "X_test.write.parquet(\"/content/test1.parquet\")"
      ],
      "id": "yyEeIHH6F3gi",
      "execution_count": null,
      "outputs": []
    },
    {
      "cell_type": "markdown",
      "metadata": {
        "id": "78fa24da"
      },
      "source": [
        "### Read the saved Train and Test DataFrame:\n",
        "- Use the dataframes you read in the subsequent steps."
      ],
      "id": "78fa24da"
    },
    {
      "cell_type": "code",
      "metadata": {
        "id": "c3f5c1e3"
      },
      "source": [
        "X_train = spark.read.parquet(\"/content/train1.parquet\")\n",
        "X_test = spark.read.parquet(\"/content/test1.parquet\")"
      ],
      "id": "c3f5c1e3",
      "execution_count": null,
      "outputs": []
    },
    {
      "cell_type": "markdown",
      "metadata": {
        "id": "987b4b40"
      },
      "source": [
        "### Create the model:\n",
        "- Perform feature engineering steps.\n",
        "- Create the logistic regression classifier.\n",
        "- Build the pipeline model that uses all feature engineering steps and the model.\n",
        "- Train the pipeline model using the trainig dataset."
      ],
      "id": "987b4b40"
    },
    {
      "cell_type": "code",
      "metadata": {
        "colab": {
          "base_uri": "https://localhost:8080/"
        },
        "id": "3278e362",
        "outputId": "de52eac4-0ab1-4845-9687-34d4492cf930"
      },
      "source": [
        "categoricalCols = [field for (field, dataType) in dataInd.dtypes\n",
        "                   if dataType == \"string\"]\n",
        "categoricalCols"
      ],
      "id": "3278e362",
      "execution_count": null,
      "outputs": [
        {
          "output_type": "execute_result",
          "data": {
            "text/plain": [
              "['ever_married', 'work_type', 'Residence_type']"
            ]
          },
          "metadata": {},
          "execution_count": 140
        }
      ]
    },
    {
      "cell_type": "code",
      "metadata": {
        "colab": {
          "base_uri": "https://localhost:8080/"
        },
        "id": "4e41b352",
        "outputId": "31f58d46-4f66-423a-d248-44bfa01f8a41"
      },
      "source": [
        "indexOutputCols = [x + \"_Index\" for x in categoricalCols]\n",
        "indexOutputCols\n",
        "oheOutputCols = [x + \"_OHE\" for x in categoricalCols]\n",
        "oheOutputCols"
      ],
      "id": "4e41b352",
      "execution_count": null,
      "outputs": [
        {
          "output_type": "execute_result",
          "data": {
            "text/plain": [
              "['ever_married_OHE', 'work_type_OHE', 'Residence_type_OHE']"
            ]
          },
          "metadata": {},
          "execution_count": 141
        }
      ]
    },
    {
      "cell_type": "code",
      "metadata": {
        "id": "106453d7"
      },
      "source": [
        "from pyspark.ml.feature import StringIndexer, VectorAssembler, OneHotEncoder\n",
        "\n",
        "stringIndexer = StringIndexer(inputCols=categoricalCols,\n",
        "                             outputCols=indexOutputCols,\n",
        "                             handleInvalid='skip')\n",
        "oheEncoder = OneHotEncoder(inputCols=indexOutputCols,\n",
        "                          outputCols=oheOutputCols)"
      ],
      "id": "106453d7",
      "execution_count": null,
      "outputs": []
    },
    {
      "cell_type": "code",
      "metadata": {
        "colab": {
          "base_uri": "https://localhost:8080/"
        },
        "id": "r8_QiWy1HJdu",
        "outputId": "4bf7ce10-4d84-4ff9-fc21-cc67d04881fd"
      },
      "source": [
        "numericCols = [field for (field,dataType) in data2.dtypes\n",
        "              if ((dataType=='double')& (field!='stroke'))]\n",
        "numericCols"
      ],
      "id": "r8_QiWy1HJdu",
      "execution_count": null,
      "outputs": [
        {
          "output_type": "execute_result",
          "data": {
            "text/plain": [
              "['age', 'avg_glucose_level', 'bmi']"
            ]
          },
          "metadata": {},
          "execution_count": 143
        }
      ]
    },
    {
      "cell_type": "code",
      "metadata": {
        "colab": {
          "base_uri": "https://localhost:8080/"
        },
        "id": "isReVvc6HKBI",
        "outputId": "4e2abb01-0afd-4deb-bd70-8e12d951f23d"
      },
      "source": [
        "assemblerInputs = oheOutputCols + numericCols +['gender','hypertension','heart_disease']\n",
        "assemblerInputs"
      ],
      "id": "isReVvc6HKBI",
      "execution_count": null,
      "outputs": [
        {
          "output_type": "execute_result",
          "data": {
            "text/plain": [
              "['ever_married_OHE',\n",
              " 'work_type_OHE',\n",
              " 'Residence_type_OHE',\n",
              " 'age',\n",
              " 'avg_glucose_level',\n",
              " 'bmi',\n",
              " 'gender',\n",
              " 'hypertension',\n",
              " 'heart_disease']"
            ]
          },
          "metadata": {},
          "execution_count": 144
        }
      ]
    },
    {
      "cell_type": "code",
      "metadata": {
        "id": "YMGD8Zp3HNgh"
      },
      "source": [
        "vecAssembler = VectorAssembler(inputCols=assemblerInputs,outputCol='features')"
      ],
      "id": "YMGD8Zp3HNgh",
      "execution_count": null,
      "outputs": []
    },
    {
      "cell_type": "code",
      "metadata": {
        "colab": {
          "base_uri": "https://localhost:8080/"
        },
        "id": "iCLXmQlvHWIX",
        "outputId": "9af31566-c3c3-477a-9695-7978c94996af"
      },
      "source": [
        "from pyspark.ml import Pipeline\n",
        "from pyspark.ml.classification import LogisticRegression\n",
        "LR = LogisticRegression(featuresCol = 'features', labelCol = 'stroke', maxIter=10)\n",
        "\n",
        "pipeline = Pipeline(stages=[stringIndexer,oheEncoder,vecAssembler,LR])\n",
        "\n",
        "predictions = pipeline.fit(X_train).transform(X_test)\n",
        "predictions.show()"
      ],
      "id": "iCLXmQlvHWIX",
      "execution_count": null,
      "outputs": [
        {
          "output_type": "stream",
          "name": "stdout",
          "text": [
            "+----+------+----+------------+-------------+------------+-------------+--------------+-----------------+-------+--------------+------+------------------+---------------+--------------------+----------------+-------------+------------------+--------------------+--------------------+--------------------+----------+\n",
            "|  id|gender| age|hypertension|heart_disease|ever_married|    work_type|Residence_type|avg_glucose_level|    bmi|smoking_status|stroke|ever_married_Index|work_type_Index|Residence_type_Index|ever_married_OHE|work_type_OHE|Residence_type_OHE|            features|       rawPrediction|         probability|prediction|\n",
            "+----+------+----+------------+-------------+------------+-------------+--------------+-----------------+-------+--------------+------+------------------+---------------+--------------------+----------------+-------------+------------------+--------------------+--------------------+--------------------+----------+\n",
            "|  84|     1|55.0|           0|            0|         Yes|      Private|         Urban|            89.17|   31.5|           0.0|     0|               0.0|            0.0|                 0.0|   (1,[0],[1.0])|(4,[0],[1.0])|     (1,[0],[1.0])|[1.0,1.0,0.0,0.0,...|[3.22783052721235...|[0.96186826131963...|       0.0|\n",
            "| 129|     0|24.0|           0|            0|          No|      Private|         Urban|            97.55|   26.2|           0.0|     0|               1.0|            0.0|                 0.0|       (1,[],[])|(4,[0],[1.0])|     (1,[0],[1.0])|(12,[1,5,6,7,8],[...|[5.46173555479219...|[0.99577177394014...|       0.0|\n",
            "| 156|     0|33.0|           0|            0|         Yes|      Private|         Rural|            86.97|   42.2|           0.0|     0|               0.0|            0.0|                 1.0|   (1,[0],[1.0])|(4,[0],[1.0])|         (1,[],[])|(12,[0,1,6,7,8],[...|[5.05797820578236...|[0.99368177192702...|       0.0|\n",
            "| 205|     0|43.0|           0|            0|         Yes|      Private|         Rural|            88.23|   37.6|           0.5|     0|               0.0|            0.0|                 1.0|   (1,[0],[1.0])|(4,[0],[1.0])|         (1,[],[])|(12,[0,1,6,7,8],[...|[4.28975061703212...|[0.98647703396501...|       0.0|\n",
            "| 259|     1|79.0|           0|            0|         Yes|      Private|         Urban|           198.79|   24.9|           0.0|     0|               0.0|            0.0|                 0.0|   (1,[0],[1.0])|(4,[0],[1.0])|     (1,[0],[1.0])|[1.0,1.0,0.0,0.0,...|[0.88767935466238...|[0.70841104078392...|       0.0|\n",
            "| 338|     0|43.0|           0|            0|         Yes|      Private|         Rural|           110.32|   28.4|           0.0|     0|               0.0|            0.0|                 1.0|   (1,[0],[1.0])|(4,[0],[1.0])|         (1,[],[])|(12,[0,1,6,7,8],[...|[4.23565702496160...|[0.98573610313718...|       0.0|\n",
            "| 394|     1|78.0|           1|            0|         Yes|Self-employed|         Rural|            75.19|   27.6|           0.0|     0|               0.0|            1.0|                 1.0|   (1,[0],[1.0])|(4,[1],[1.0])|         (1,[],[])|[1.0,0.0,1.0,0.0,...|[1.74849837875020...|[0.85176330352926...|       0.0|\n",
            "| 491|     0|74.0|           0|            0|         Yes|Self-employed|         Urban|            74.96|   26.6|           0.0|     1|               0.0|            1.0|                 0.0|   (1,[0],[1.0])|(4,[1],[1.0])|     (1,[0],[1.0])|(12,[0,2,5,6,7,8]...|[2.28102878680937...|[0.90729361637299...|       0.0|\n",
            "| 587|     0|14.0|           0|            0|          No|     children|         Rural|            92.22|   22.8|           0.5|     0|               1.0|            3.0|                 1.0|       (1,[],[])|(4,[3],[1.0])|         (1,[],[])|(12,[4,6,7,8],[1....|[6.25296209003007...|[0.99807895310648...|       0.0|\n",
            "| 621|     1|69.0|           0|            0|         Yes|      Private|         Rural|           101.52|   26.8|           1.0|     0|               0.0|            0.0|                 1.0|   (1,[0],[1.0])|(4,[0],[1.0])|         (1,[],[])|(12,[0,1,6,7,8,9]...|[2.28334881442818...|[0.90748857401815...|       0.0|\n",
            "| 641|     1|52.0|           0|            0|         Yes|     Govt_job|         Rural|            87.26|   40.1|           1.0|     0|               0.0|            2.0|                 1.0|   (1,[0],[1.0])|(4,[2],[1.0])|         (1,[],[])|(12,[0,3,6,7,8,9]...|[3.79734357225248...|[0.97806180265162...|       0.0|\n",
            "| 712|     0|82.0|           1|            1|          No|      Private|         Rural|            84.03|   26.5|          0.75|     1|               1.0|            0.0|                 1.0|       (1,[],[])|(4,[0],[1.0])|         (1,[],[])|(12,[1,6,7,8,10,1...|[0.39147726401041...|[0.59663826989364...|       0.0|\n",
            "| 724|     1|17.0|           0|            0|          No|      Private|         Rural|            81.77|   44.7|           0.0|     0|               1.0|            0.0|                 1.0|       (1,[],[])|(4,[0],[1.0])|         (1,[],[])|(12,[1,6,7,8,9],[...|[6.22003603782653...|[0.99801477542569...|       0.0|\n",
            "| 739|     0|73.0|           0|            0|         Yes|Self-employed|         Rural|            79.69|29.2574|          0.75|     0|               0.0|            1.0|                 1.0|   (1,[0],[1.0])|(4,[1],[1.0])|         (1,[],[])|(12,[0,2,6,7,8],[...|[2.51221747140636...|[0.92499388418634...|       0.0|\n",
            "| 820|     0|59.0|           1|            0|         Yes|      Private|         Rural|            99.06|   23.4|           0.0|     0|               0.0|            0.0|                 1.0|   (1,[0],[1.0])|(4,[0],[1.0])|         (1,[],[])|(12,[0,1,6,7,8,10...|[2.61370511287211...|[0.93173842590345...|       0.0|\n",
            "| 924|     0|60.0|           0|            0|         Yes|     Govt_job|         Urban|            80.86|   31.0|           1.0|     0|               0.0|            2.0|                 0.0|   (1,[0],[1.0])|(4,[2],[1.0])|     (1,[0],[1.0])|(12,[0,3,5,6,7,8]...|[3.01409537478067...|[0.95320686195159...|       0.0|\n",
            "|1112|     0|14.0|           0|            0|          No|      Private|         Urban|            83.42|   28.7|           0.0|     0|               1.0|            0.0|                 0.0|       (1,[],[])|(4,[0],[1.0])|     (1,[0],[1.0])|(12,[1,5,6,7,8],[...|[6.29743505180368...|[0.99816236228004...|       0.0|\n",
            "|1473|     1|69.0|           1|            0|         Yes|      Private|         Urban|           229.21|   30.1|           1.0|     0|               0.0|            0.0|                 0.0|   (1,[0],[1.0])|(4,[0],[1.0])|     (1,[0],[1.0])|[1.0,1.0,0.0,0.0,...|[1.07127250186891...|[0.74483883516665...|       0.0|\n",
            "|1666|     1|70.0|           0|            0|         Yes|     Govt_job|         Urban|           202.55|29.2574|          0.75|     0|               0.0|            2.0|                 0.0|   (1,[0],[1.0])|(4,[2],[1.0])|     (1,[0],[1.0])|[1.0,0.0,0.0,1.0,...|[1.73664915346011...|[0.85026094535837...|       0.0|\n",
            "|1686|     0|29.0|           0|            0|          No|      Private|         Urban|            71.89|   27.6|           0.0|     0|               1.0|            0.0|                 0.0|       (1,[],[])|(4,[0],[1.0])|     (1,[0],[1.0])|(12,[1,5,6,7,8],[...|[5.17693999550499...|[0.99438643548492...|       0.0|\n",
            "+----+------+----+------------+-------------+------------+-------------+--------------+-----------------+-------+--------------+------+------------------+---------------+--------------------+----------------+-------------+------------------+--------------------+--------------------+--------------------+----------+\n",
            "only showing top 20 rows\n",
            "\n"
          ]
        }
      ]
    },
    {
      "cell_type": "markdown",
      "metadata": {
        "id": "a05c2677"
      },
      "source": [
        "### Perform predictions on tests dataframe:\n",
        "- Test the model using the test dataframe\n",
        "- Select and show the feature column.\n",
        "- Print the schema of the output dataframe.\n",
        "- Select and show both prediction and label columns.\n",
        "- Explore the results for the label column stroke=1. i.e. select both columns (prediction,stroke) for stroke=1.<b>notice the result.</b> \n",
        "- Count the predicted 1 and 0 values.<b>notice the result.</b>   "
      ],
      "id": "a05c2677"
    },
    {
      "cell_type": "code",
      "metadata": {
        "id": "d772bef6"
      },
      "source": [
        ""
      ],
      "id": "d772bef6",
      "execution_count": null,
      "outputs": []
    },
    {
      "cell_type": "code",
      "metadata": {
        "colab": {
          "base_uri": "https://localhost:8080/"
        },
        "id": "3ea267eb",
        "outputId": "424e405b-c631-41b5-e8f8-1515f91aad85"
      },
      "source": [
        "predictions.select('features').show()"
      ],
      "id": "3ea267eb",
      "execution_count": null,
      "outputs": [
        {
          "output_type": "stream",
          "name": "stdout",
          "text": [
            "+--------------------+\n",
            "|            features|\n",
            "+--------------------+\n",
            "|[1.0,1.0,0.0,0.0,...|\n",
            "|(12,[1,5,6,7,8],[...|\n",
            "|(12,[0,1,6,7,8],[...|\n",
            "|(12,[0,1,6,7,8],[...|\n",
            "|[1.0,1.0,0.0,0.0,...|\n",
            "|(12,[0,1,6,7,8],[...|\n",
            "|[1.0,0.0,1.0,0.0,...|\n",
            "|(12,[0,2,5,6,7,8]...|\n",
            "|(12,[4,6,7,8],[1....|\n",
            "|(12,[0,1,6,7,8,9]...|\n",
            "|(12,[0,3,6,7,8,9]...|\n",
            "|(12,[1,6,7,8,10,1...|\n",
            "|(12,[1,6,7,8,9],[...|\n",
            "|(12,[0,2,6,7,8],[...|\n",
            "|(12,[0,1,6,7,8,10...|\n",
            "|(12,[0,3,5,6,7,8]...|\n",
            "|(12,[1,5,6,7,8],[...|\n",
            "|[1.0,1.0,0.0,0.0,...|\n",
            "|[1.0,0.0,0.0,1.0,...|\n",
            "|(12,[1,5,6,7,8],[...|\n",
            "+--------------------+\n",
            "only showing top 20 rows\n",
            "\n"
          ]
        }
      ]
    },
    {
      "cell_type": "code",
      "metadata": {
        "scrolled": false,
        "id": "480d892e"
      },
      "source": [
        ""
      ],
      "id": "480d892e",
      "execution_count": null,
      "outputs": []
    },
    {
      "cell_type": "markdown",
      "metadata": {
        "id": "daec120f"
      },
      "source": [
        "### Evaluate the model performance\n",
        "- Use <b>BinaryClassificationEvaluator</b>. This will calculate the <b>ROC</b>.\n",
        "- Set the parameters as follow:\n",
        "    - <b>rawPredictionCol='prediction'</b> and <b>labelCol='stroke'</b>"
      ],
      "id": "daec120f"
    },
    {
      "cell_type": "code",
      "metadata": {
        "id": "a7b5ad25"
      },
      "source": [
        "from pyspark.ml.evaluation import BinaryClassificationEvaluator"
      ],
      "id": "a7b5ad25",
      "execution_count": null,
      "outputs": []
    },
    {
      "cell_type": "code",
      "metadata": {
        "id": "44d3a1e6"
      },
      "source": [
        "evaluatorROC = BinaryClassificationEvaluator(rawPredictionCol='prediction'\n",
        "                                             ,labelCol='stroke')"
      ],
      "id": "44d3a1e6",
      "execution_count": null,
      "outputs": []
    },
    {
      "cell_type": "code",
      "metadata": {
        "colab": {
          "base_uri": "https://localhost:8080/"
        },
        "id": "3adbe41f",
        "outputId": "67f50917-faa1-4a50-fab6-f1c79fd75d83"
      },
      "source": [
        "evaluatorROC.evaluate(predictions)"
      ],
      "id": "3adbe41f",
      "execution_count": null,
      "outputs": [
        {
          "output_type": "execute_result",
          "data": {
            "text/plain": [
              "0.4994475138121547"
            ]
          },
          "metadata": {},
          "execution_count": 187
        }
      ]
    },
    {
      "cell_type": "markdown",
      "metadata": {
        "id": "40206589"
      },
      "source": [
        "### Improve Model Performance\n",
        "- You may noticed that <b>the target label is imbalanced</b>.\n",
        "- LogisticRegression classifier has a special parameter <b>weightCol</b> to deal with imbalanced class.\n",
        "- In order to use this parameter you must have a <b>weightCol</b> in your training dataframe.\n",
        "- In order to create this column you will need to define a <b>UDF</b> and apply it to the target label column.\n",
        "- Create a LogisticRegression classifier with <b>weightCol</b> parameter.\n",
        "- Build and train a pipeline model with the new LogisticRegression.\n",
        "- Perform the prediction on the test dataframe. \n",
        "- Select and show both prediction and label columns.\n",
        "- Explore the results for the label column stroke=1. i.e. select both columns (prediction,stroke) for stroke=1.<b>notice the result.</b> \n",
        "- Count the predicted 1 and 0 values.<b>notice the result.</b>   \n",
        "- Evaluate the model performance exactly as in the previous step.\n",
        "### YOU SHOULD OBTAIN  ROC > 0.65\n",
        "<BR>\n",
        "<b><font color='red'>Note: feel free to deal with the imbalanced cluster with the above method or another. However, you can only use methods applied on SPARK DATAFRAME</font></b>"
      ],
      "id": "40206589"
    },
    {
      "cell_type": "code",
      "metadata": {
        "id": "03385adc"
      },
      "source": [
        "ones = data2.groupBy(\"stroke\").count().collect()[0][1]\n",
        "zeros = data2.groupBy(\"stroke\").count().collect()[1][1]\n",
        "\n",
        "all = ones + zeros\n",
        "ratio_zeros = zeros / all\n",
        "ratio_ones = ones / all"
      ],
      "id": "03385adc",
      "execution_count": null,
      "outputs": []
    },
    {
      "cell_type": "code",
      "metadata": {
        "id": "00e034e9"
      },
      "source": [
        "def weighted_col(x):\n",
        "  if x == 0:\n",
        "    return ratio_ones\n",
        "  else:\n",
        "    return ratio_zeros"
      ],
      "id": "00e034e9",
      "execution_count": null,
      "outputs": []
    },
    {
      "cell_type": "code",
      "metadata": {
        "id": "66efa0c6"
      },
      "source": [
        "weighted_col_map_func = F.udf(weighted_col, DoubleType())\n",
        "X_train = X_train.withColumn('weighted_col', weighted_col_map_func('stroke'))"
      ],
      "id": "66efa0c6",
      "execution_count": null,
      "outputs": []
    },
    {
      "cell_type": "code",
      "metadata": {
        "colab": {
          "base_uri": "https://localhost:8080/"
        },
        "id": "jD5FF614LOLi",
        "outputId": "73b87060-1969-4e93-a416-9310c4734ca5"
      },
      "source": [
        "X_train.createOrReplaceTempView(\"X_train\")\n",
        "spark.sql(\"SELECT stroke, weighted_col FROM X_train\").show()"
      ],
      "id": "jD5FF614LOLi",
      "execution_count": null,
      "outputs": [
        {
          "output_type": "stream",
          "name": "stdout",
          "text": [
            "+------+--------------------+\n",
            "|stroke|        weighted_col|\n",
            "+------+--------------------+\n",
            "|     0|0.050253292806484294|\n",
            "|     0|0.050253292806484294|\n",
            "|     0|0.050253292806484294|\n",
            "|     0|0.050253292806484294|\n",
            "|     0|0.050253292806484294|\n",
            "|     0|0.050253292806484294|\n",
            "|     0|0.050253292806484294|\n",
            "|     0|0.050253292806484294|\n",
            "|     0|0.050253292806484294|\n",
            "|     0|0.050253292806484294|\n",
            "|     1|  0.9497467071935157|\n",
            "|     0|0.050253292806484294|\n",
            "|     0|0.050253292806484294|\n",
            "|     0|0.050253292806484294|\n",
            "|     0|0.050253292806484294|\n",
            "|     0|0.050253292806484294|\n",
            "|     0|0.050253292806484294|\n",
            "|     0|0.050253292806484294|\n",
            "|     0|0.050253292806484294|\n",
            "|     0|0.050253292806484294|\n",
            "+------+--------------------+\n",
            "only showing top 20 rows\n",
            "\n"
          ]
        }
      ]
    },
    {
      "cell_type": "code",
      "metadata": {
        "colab": {
          "base_uri": "https://localhost:8080/"
        },
        "id": "SNo4cR-MLVxr",
        "outputId": "36e56775-78e1-420b-99cf-4dd1be780a6e"
      },
      "source": [
        "LR = LogisticRegression(featuresCol = 'features', labelCol = 'stroke', weightCol = 'weighted_col')\n",
        "\n",
        "pipeline2 = Pipeline(stages=[stringIndexer,oheEncoder,vecAssembler,LR])\n",
        "pred_W = pipeline2.fit(X_train).transform(X_test)\n",
        "pred_W.select('prediction').distinct().show()"
      ],
      "id": "SNo4cR-MLVxr",
      "execution_count": null,
      "outputs": [
        {
          "output_type": "stream",
          "name": "stdout",
          "text": [
            "+----------+\n",
            "|prediction|\n",
            "+----------+\n",
            "|       0.0|\n",
            "|       1.0|\n",
            "+----------+\n",
            "\n"
          ]
        }
      ]
    },
    {
      "cell_type": "code",
      "metadata": {
        "colab": {
          "base_uri": "https://localhost:8080/"
        },
        "id": "4e8c18b5",
        "outputId": "2a5b8f26-2cd3-4eed-98fb-6198eb9c04c9"
      },
      "source": [
        "evaluatorROC.evaluate(pred_W)"
      ],
      "id": "4e8c18b5",
      "execution_count": null,
      "outputs": [
        {
          "output_type": "execute_result",
          "data": {
            "text/plain": [
              "0.7425131038390708"
            ]
          },
          "metadata": {},
          "execution_count": 193
        }
      ]
    },
    {
      "cell_type": "code",
      "metadata": {
        "id": "9gIBiDV_LNCp"
      },
      "source": [
        ""
      ],
      "id": "9gIBiDV_LNCp",
      "execution_count": null,
      "outputs": []
    },
    {
      "cell_type": "markdown",
      "metadata": {
        "id": "e00e7b53"
      },
      "source": [
        "# GOOD LUCK\n",
        "<b><font color='GREEN'>AI-PRO Spark Team ITI</font></b>"
      ],
      "id": "e00e7b53"
    },
    {
      "cell_type": "markdown",
      "metadata": {
        "id": "0e065922"
      },
      "source": [
        "![image-3.png](attachment:image-3.png)"
      ],
      "id": "0e065922"
    }
  ]
}